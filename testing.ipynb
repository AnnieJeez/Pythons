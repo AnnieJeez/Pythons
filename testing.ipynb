{
  "nbformat": 4,
  "nbformat_minor": 0,
  "metadata": {
    "colab": {
      "name": "testing.ipynb",
      "provenance": [],
      "collapsed_sections": [],
      "authorship_tag": "ABX9TyMIdrWJ9lUbSleFU5K455+m",
      "include_colab_link": true
    },
    "kernelspec": {
      "name": "python3",
      "display_name": "Python 3"
    }
  },
  "cells": [
    {
      "cell_type": "markdown",
      "metadata": {
        "id": "view-in-github",
        "colab_type": "text"
      },
      "source": [
        "<a href=\"https://colab.research.google.com/github/AnnieJeez/Pythons/blob/main/testing.ipynb\" target=\"_parent\"><img src=\"https://colab.research.google.com/assets/colab-badge.svg\" alt=\"Open In Colab\"/></a>"
      ]
    },
    {
      "cell_type": "markdown",
      "metadata": {
        "id": "vSsporc4mXXR"
      },
      "source": [
        "**Colab**"
      ]
    },
    {
      "cell_type": "markdown",
      "metadata": {
        "id": "tRw7VkCXmPKy"
      },
      "source": [
        "Testing this Notebook!\r\n"
      ]
    },
    {
      "cell_type": "code",
      "metadata": {
        "colab": {
          "base_uri": "https://localhost:8080/"
        },
        "id": "Vq_lshtDmi5O",
        "outputId": "a7f0998a-a0b7-42c8-d9ca-4cbc2990e99d"
      },
      "source": [
        "print(\"Hello Annie\")"
      ],
      "execution_count": 1,
      "outputs": [
        {
          "output_type": "stream",
          "text": [
            "Hello Annie\n"
          ],
          "name": "stdout"
        }
      ]
    }
  ]
}